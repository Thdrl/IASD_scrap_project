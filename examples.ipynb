{
 "cells": [
  {
   "cell_type": "code",
   "execution_count": 5,
   "metadata": {},
   "outputs": [],
   "source": [
    "import psycopg2\n",
    "import ast\n",
    "import json\n",
    "import os\n",
    "import tqdm\n",
    "\n",
    "from utils import get_db_params\n",
    "\n",
    "db_params = get_db_params()\n",
    "conn = psycopg2.connect(**db_params)\n",
    "cursor = conn.cursor()"
   ]
  },
  {
   "cell_type": "code",
   "execution_count": 6,
   "metadata": {},
   "outputs": [],
   "source": [
    "def print_from_cursor(cursor):\n",
    "    rows = cursor.fetchall()\n",
    "    if len(rows) == 0:\n",
    "        print(\"<!> No rows found\")\n",
    "\n",
    "    for row in rows:\n",
    "        print(row)"
   ]
  },
  {
   "cell_type": "code",
   "execution_count": 7,
   "metadata": {},
   "outputs": [
    {
     "name": "stdout",
     "output_type": "stream",
     "text": [
      "5 random ingredients:\n",
      "<!> No rows found\n",
      "5 random categories:\n",
      "<!> No rows found\n",
      "5 random recipes:\n",
      "<!> No rows found\n"
     ]
    }
   ],
   "source": [
    "# Get 5 random examples for each table ingredients, categories, recipes\n",
    "\n",
    "cursor.execute(\"SELECT * FROM ingredients ORDER BY RANDOM() LIMIT 5\")\n",
    "print(\"5 random ingredients:\")\n",
    "print_from_cursor(cursor)\n",
    "\n",
    "cursor.execute(\"SELECT * FROM categories ORDER BY RANDOM() LIMIT 5\")\n",
    "print(\"5 random categories:\")\n",
    "print_from_cursor(cursor)\n",
    "\n",
    "cursor.execute(\"SELECT * FROM recipes ORDER BY RANDOM() LIMIT 5\")\n",
    "print(\"5 random recipes:\")\n",
    "print_from_cursor(cursor)\n",
    "\n"
   ]
  },
  {
   "cell_type": "code",
   "execution_count": 8,
   "metadata": {},
   "outputs": [
    {
     "name": "stdout",
     "output_type": "stream",
     "text": [
      "10 random recipes with ingredients:\n",
      "<!> No rows found\n"
     ]
    }
   ],
   "source": [
    "# Get 10 random examples of recipes with ingredients \n",
    "\n",
    "query = \"SELECT R.Name AS RecipeName, string_agg(I.Name, ', ') AS Ingredients \\\n",
    "FROM Recipes R \\\n",
    "JOIN RecipeIngredients RI ON R.ID = RI.RecipeID \\\n",
    "JOIN Ingredients I ON RI.IngredientID = I.IngredientID \\\n",
    "GROUP BY R.ID, R.Name \\\n",
    "ORDER BY RANDOM() \\\n",
    "LIMIT 10;\"\n",
    "\n",
    "cursor.execute(query)\n",
    "rows = cursor.fetchall()\n",
    "print(\"10 random recipes with ingredients:\")\n",
    "print_from_cursor(cursor)\n"
   ]
  },
  {
   "cell_type": "code",
   "execution_count": 9,
   "metadata": {},
   "outputs": [
    {
     "name": "stdout",
     "output_type": "stream",
     "text": [
      "0\n"
     ]
    }
   ],
   "source": [
    "query = \"SELECT R.Name AS RecipeName, string_agg(I.Name, ', ') AS IngredientNames\\\n",
    "        FROM Recipes R\\\n",
    "        JOIN RecipeIngredients RI ON R.ID = RI.RecipeID\\\n",
    "        JOIN Ingredients I ON RI.IngredientID = I.IngredientID\\\n",
    "        WHERE R.ID IN (\\\n",
    "            SELECT RecipeID\\\n",
    "            FROM RecipeIngredients RI\\\n",
    "            JOIN Ingredients I ON RI.IngredientID = I.IngredientID\\\n",
    "            WHERE I.Name IN ('butter')\\\n",
    "            GROUP BY RecipeID\\\n",
    "        )\\\n",
    "        GROUP BY R.Name;\"\n",
    "\n",
    "cursor.execute(\"ROLLBACK;\")\n",
    "cursor.execute(query)\n",
    "\n",
    "rows = cursor.fetchall()\n",
    "print(\"Recipes with butter:\")\n",
    "print_from_cursor(cursor)\n"
   ]
  }
 ],
 "metadata": {
  "kernelspec": {
   "display_name": "scrapy",
   "language": "python",
   "name": "python3"
  },
  "language_info": {
   "codemirror_mode": {
    "name": "ipython",
    "version": 3
   },
   "file_extension": ".py",
   "mimetype": "text/x-python",
   "name": "python",
   "nbconvert_exporter": "python",
   "pygments_lexer": "ipython3",
   "version": "3.11.5"
  }
 },
 "nbformat": 4,
 "nbformat_minor": 2
}
