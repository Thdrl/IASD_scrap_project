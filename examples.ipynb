{
 "cells": [
  {
   "cell_type": "code",
   "execution_count": 51,
   "metadata": {},
   "outputs": [],
   "source": [
    "import psycopg2\n",
    "import ast\n",
    "import json\n",
    "import os\n",
    "import tqdm\n",
    "\n",
    "from utils import get_db_params\n",
    "\n",
    "db_params = get_db_params()\n",
    "conn = psycopg2.connect(**db_params)\n",
    "cursor = conn.cursor()"
   ]
  },
  {
   "cell_type": "code",
   "execution_count": 6,
   "metadata": {},
   "outputs": [],
   "source": [
    "def print_from_cursor(cursor):\n",
    "    rows = cursor.fetchall()\n",
    "    if len(rows) == 0:\n",
    "        print(\"<!> No rows found\")\n",
    "\n",
    "    for row in rows:\n",
    "        print(row)\n",
    "    print()"
   ]
  },
  {
   "cell_type": "code",
   "execution_count": 46,
   "metadata": {},
   "outputs": [
    {
     "name": "stdout",
     "output_type": "stream",
     "text": [
      "5 random ingredients:\n",
      "(1458, 'sel marin a grain fin')\n",
      "(600, 'travers de porc')\n",
      "(919, 'sirop de mure')\n",
      "(1518, 'eau pour couvrir')\n",
      "(1394, 'sel, ou selon le gout')\n",
      "\n",
      "5 random categories:\n",
      "(10, 'cuisine francaise')\n",
      "(9, 'viandes rouges')\n",
      "(5, 'gouters')\n",
      "(12, 'fruits de mer & crustaces')\n",
      "(8, 'preparation et sauce')\n",
      "\n",
      "5 random recipes:\n",
      "('clementines confites',)\n",
      "('raviolis au potiron et jambon fume',)\n",
      "('dos de cabillaud a la chermoula',)\n",
      "('penne aux legumes verts et ricotta',)\n",
      "('sopapillas (beignets mexicains)',)\n",
      "\n"
     ]
    }
   ],
   "source": [
    "# Get 5 random examples for each table ingredients, categories, recipes\n",
    "\n",
    "cursor.execute(\"SELECT * FROM ingredients ORDER BY RANDOM() LIMIT 5\")\n",
    "print(\"5 random ingredients:\")\n",
    "print_from_cursor(cursor)\n",
    "\n",
    "cursor.execute(\"SELECT * FROM categories ORDER BY RANDOM() LIMIT 5\")\n",
    "print(\"5 random categories:\")\n",
    "print_from_cursor(cursor)\n",
    "\n",
    "cursor.execute(\"SELECT NAME FROM recipes ORDER BY RANDOM() LIMIT 5\")\n",
    "print(\"5 random recipes:\")\n",
    "print_from_cursor(cursor)\n",
    "\n"
   ]
  },
  {
   "cell_type": "code",
   "execution_count": 60,
   "metadata": {},
   "outputs": [
    {
     "name": "stdout",
     "output_type": "stream",
     "text": [
      "4 recipes with bacon:\n",
      "(\"bagel d'hiver\",)\n",
      "('bouchees croustillantes bacon et avocat',)\n",
      "(\"bouchees de mac'n'cheese au bacon\",)\n",
      "('burger au bacon et oignons confits',)\n",
      "\n"
     ]
    }
   ],
   "source": [
    "# Get 10 random examples of recipes with ingredients \n",
    "\n",
    "query = \"\"\"\n",
    "SELECT DISTINCT r.name\n",
    "FROM recipes AS r\n",
    "JOIN recipeingredients AS ri ON r.id = ri.recipeid\n",
    "WHERE ri.ingredientid = (SELECT ingredientid FROM ingredients WHERE name = 'bacon')\n",
    "LIMIT 4 ;\n",
    "\"\"\"\n",
    "\n",
    "cursor.execute(query)\n",
    "print(\"4 recipes with bacon:\")\n",
    "print_from_cursor(cursor)\n"
   ]
  },
  {
   "cell_type": "code",
   "execution_count": 56,
   "metadata": {},
   "outputs": [
    {
     "name": "stdout",
     "output_type": "stream",
     "text": [
      "recipes with all of a list (here : bacon, eggs):\n",
      "(\"petit dej a l'anglaise\",)\n",
      "('salade cobb',)\n",
      "('sucrines sauce cesar, bacon grille et oeuf mollet',)\n",
      "('tortilla a la tomate, lard et oeuf sur le plat',)\n",
      "\n"
     ]
    }
   ],
   "source": [
    "#strict list-based recipe search\n",
    "\n",
    "ingredient_list = ['bacon', 'oeuf', 'tomate']\n",
    "\n",
    "placeholders = ', '.join(['%s'] * len(ingredient_list))\n",
    "query = f\"\"\"\n",
    "    SELECT DISTINCT r.name\n",
    "    FROM recipes AS r\n",
    "    JOIN recipeingredients AS ri ON r.id = ri.recipeid\n",
    "    WHERE ri.ingredientid IN (\n",
    "        SELECT ingredientid FROM ingredients WHERE name IN ({placeholders})\n",
    "    )\n",
    "    GROUP BY r.name\n",
    "    HAVING COUNT(DISTINCT ri.ingredientid) = {len(ingredient_list)};\n",
    "    \"\"\"\n",
    "\n",
    "cursor.execute(query, ingredient_list)\n",
    "print(\"recipes with all of a list (here : bacon, eggs):\")\n",
    "print_from_cursor(cursor)"
   ]
  },
  {
   "cell_type": "code",
   "execution_count": 59,
   "metadata": {},
   "outputs": [
    {
     "name": "stdout",
     "output_type": "stream",
     "text": [
      "recipes with all but one element of the list [bacon, eggs, tomato, cheddar]:\n",
      "('canneles bacon cheddar',)\n",
      "('egg muffin bacon, oignon rouge et cheddar',)\n",
      "(\"petit dej a l'anglaise\",)\n",
      "(\"poivron farci a l'omelette\",)\n",
      "('salade cobb',)\n",
      "('sucrines sauce cesar, bacon grille et oeuf mollet',)\n",
      "('texas burger',)\n",
      "('tortilla a la tomate, lard et oeuf sur le plat',)\n",
      "\n"
     ]
    }
   ],
   "source": [
    "#list-based recipe search with \"wiggle\" room\n",
    "\n",
    "ingredient_list = ['bacon', 'oeuf', 'tomate', 'cheddar']\n",
    "n_wiggle = 1\n",
    "\n",
    "placeholders = ', '.join(['%s'] * len(ingredient_list))\n",
    "query = f\"\"\"\n",
    "    SELECT DISTINCT r.name\n",
    "    FROM recipes AS r\n",
    "    JOIN recipeingredients AS ri ON r.id = ri.recipeid\n",
    "    WHERE ri.ingredientid IN (\n",
    "        SELECT ingredientid FROM ingredients WHERE name IN ({placeholders})\n",
    "    )\n",
    "    GROUP BY r.name\n",
    "    HAVING COUNT(DISTINCT ri.ingredientid) >= {len(ingredient_list) - n_wiggle};\n",
    "    \"\"\"\n",
    "\n",
    "cursor.execute(query, ingredient_list)\n",
    "print(\"recipes with all but one element of the list [bacon, eggs, tomato, cheddar]:\")\n",
    "print_from_cursor(cursor)"
   ]
  }
 ],
 "metadata": {
  "kernelspec": {
   "display_name": "scrapy",
   "language": "python",
   "name": "python3"
  },
  "language_info": {
   "codemirror_mode": {
    "name": "ipython",
    "version": 3
   },
   "file_extension": ".py",
   "mimetype": "text/x-python",
   "name": "python",
   "nbconvert_exporter": "python",
   "pygments_lexer": "ipython3",
   "version": "3.11.5"
  }
 },
 "nbformat": 4,
 "nbformat_minor": 2
}
