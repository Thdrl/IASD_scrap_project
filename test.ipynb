{
 "cells": [
  {
   "cell_type": "code",
   "execution_count": 2,
   "metadata": {},
   "outputs": [
    {
     "name": "stdout",
     "output_type": "stream",
     "text": [
      "Looking in indexes: https://pypi.org/simple, https://pypi.ngc.nvidia.com\n",
      "Requirement already satisfied: unidecode in c:\\users\\thomas\\miniconda3\\envs\\pyg\\lib\\site-packages (1.3.8)\n",
      "Looking in indexes: https://pypi.org/simple, https://pypi.ngc.nvidia.com\n",
      "Requirement already satisfied: deepl in c:\\users\\thomas\\miniconda3\\envs\\pyg\\lib\\site-packages (1.16.1)\n",
      "Requirement already satisfied: requests<3,>=2 in c:\\users\\thomas\\miniconda3\\envs\\pyg\\lib\\site-packages (from deepl) (2.31.0)\n",
      "Requirement already satisfied: charset-normalizer<4,>=2 in c:\\users\\thomas\\miniconda3\\envs\\pyg\\lib\\site-packages (from requests<3,>=2->deepl) (2.0.4)\n",
      "Requirement already satisfied: idna<4,>=2.5 in c:\\users\\thomas\\miniconda3\\envs\\pyg\\lib\\site-packages (from requests<3,>=2->deepl) (3.4)\n",
      "Requirement already satisfied: urllib3<3,>=1.21.1 in c:\\users\\thomas\\miniconda3\\envs\\pyg\\lib\\site-packages (from requests<3,>=2->deepl) (1.26.16)\n",
      "Requirement already satisfied: certifi>=2017.4.17 in c:\\users\\thomas\\miniconda3\\envs\\pyg\\lib\\site-packages (from requests<3,>=2->deepl) (2023.7.22)\n"
     ]
    }
   ],
   "source": [
    "!pip install unidecode\n",
    "!pip install deepl"
   ]
  },
  {
   "cell_type": "code",
   "execution_count": 4,
   "metadata": {},
   "outputs": [
    {
     "name": "stdout",
     "output_type": "stream",
     "text": [
      "file exists\n",
      "ingredients extracted\n",
      "openrecipes processed\n"
     ]
    }
   ],
   "source": [
    "\n",
    "import ast\n",
    "import json\n",
    "import os\n",
    "\n",
    "from utils import get_db_params, insert_line\n",
    "from lidl.process_lidl import process_line as process_lidl_line\n",
    "from openrecipes_dump.process_openrecipes import process_line as process_openrecipes_line\n",
    "from openrecipes_dump.process_openrecipes import get_ingredients_and_translate\n",
    "\n",
    "\n",
    "json_file_path = 'openrecipes_dump/openrecipes.json'\n",
    "if not os.path.exists(json_file_path):\n",
    "    raise Exception('File '+ json_file_path +' does not exist')\n",
    "\n",
    "print('file exists')\n",
    "\n",
    "with open(json_file_path, 'r') as f:\n",
    "    common_ings, translated_ings = get_ingredients_and_translate(f)\n",
    "    print('ingredients extracted')\n",
    "    for line in f:\n",
    "        line = ast.literal_eval(line)\n",
    "        processed_line = process_openrecipes_line(line, common_ings, translated_ings)\n",
    "        print('line processed')\n",
    "\n",
    "print('openrecipes processed')\n"
   ]
  },
  {
   "cell_type": "code",
   "execution_count": 7,
   "metadata": {},
   "outputs": [],
   "source": [
    "json_file_path = 'lidl/output.json'\n",
    "if not os.path.exists(json_file_path):\n",
    "    raise Exception('File '+ json_file_path +' does not exist')\n",
    "\n",
    "with open(json_file_path, 'r', encoding='utf-8') as file:\n",
    "    lines = json.load(file)\n",
    "    for line in lines:\n",
    "        processed_line = process_lidl_line(line)"
   ]
  }
 ],
 "metadata": {
  "kernelspec": {
   "display_name": "pyg",
   "language": "python",
   "name": "python3"
  },
  "language_info": {
   "codemirror_mode": {
    "name": "ipython",
    "version": 3
   },
   "file_extension": ".py",
   "mimetype": "text/x-python",
   "name": "python",
   "nbconvert_exporter": "python",
   "pygments_lexer": "ipython3",
   "version": "3.11.5"
  }
 },
 "nbformat": 4,
 "nbformat_minor": 2
}
