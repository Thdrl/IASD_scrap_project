{
 "cells": [
  {
   "cell_type": "code",
   "execution_count": 1,
   "metadata": {},
   "outputs": [],
   "source": [
    "from pathlib import Path\n",
    "import re\n",
    "import os\n",
    "import json\n",
    "import re\n",
    "import unidecode\n"
   ]
  },
  {
   "cell_type": "code",
   "execution_count": 2,
   "metadata": {},
   "outputs": [
    {
     "name": "stdout",
     "output_type": "stream",
     "text": [
      "{'ingredients_values', 'image', 'servings', 'difficulty', 'instructions', 'category', 'time', 'ingredients', 'ingredients_units', 'url', 'title'}\n"
     ]
    }
   ],
   "source": [
    "json_file_path = 'output.json'\n",
    "# Check if the file exists\n",
    "if not os.path.exists(json_file_path):\n",
    "    raise Exception('File does not exist')\n",
    "with open(json_file_path, 'r') as file:\n",
    "    lines = json.load(file)\n",
    "\n",
    "# Check all unique keys\n",
    "keys = set()\n",
    "for line in lines:\n",
    "    for key in line.keys():\n",
    "        keys.add(key)\n",
    "\n",
    "print(keys)"
   ]
  },
  {
   "cell_type": "code",
   "execution_count": 3,
   "metadata": {},
   "outputs": [
    {
     "name": "stdout",
     "output_type": "stream",
     "text": [
      "ingredients_values\n",
      "[400, 200, 20]\n",
      "[250, 180, 1, 1, 5, 1, 1, 30]\n",
      "[1, 1, 1, 1, 1, 6, 1, 1]\n",
      "\n",
      "\n",
      "image\n",
      "https://www.lidl-recettes.fr/var/site/storage/images/_aliases/960x330/4/0/5/6/2786504-1-fre-FR/Prospectus-S07_GratinDePolenta.jpg\n",
      "https://www.lidl-recettes.fr/var/site/storage/images/_aliases/960x330/7/7/7/2/92777-3-fre-FR/Tartine-de-chevre-gratine-et-confiture-de-figue.jpg\n",
      "https://www.lidl-recettes.fr/var/site/storage/images/_aliases/960x330/1/4/7/0/20741-3-fre-FR/Maquereaux-grilles-au-barbecue-et-salsa-de-tomate-avocat.jpg\n",
      "\n",
      "\n",
      "servings\n",
      "4\n",
      "4\n",
      "4\n",
      "\n",
      "\n",
      "difficulty\n",
      "1\n",
      "1\n",
      "1\n",
      "\n",
      "\n",
      "instructions\n",
      "Préchauffer le four à 220°C. \n",
      "Dans un mixeur, hacher le persil avec les échalotes, les gousses d'ail, l'huile d'olive et le jus d’un demi-citron. \n",
      "Retirer toutes les opercules des bulots. Recouvrir de persillade en tassant bien. \n",
      "Disposer les coquilles remplies sur une plaque de cuisson et enfourner 5 à 8 minutes dans la partie haute du four. Déguster aussitôt avec du pain grillé et un filet de jus de citron.\n",
      "\n",
      "\n",
      "Éplucher les pommes de terre puis les couper en rondelles. \n",
      "Cuire les pommes de terre 20 minutes dans un grand volume d’eau. \n",
      "Cuire les saucisses 15 minutes dans une casserole puis les couper en rondelles. \n",
      "Mélanger les pommes de terre, les saucisses, la crème, le fromage, le sel et le poivre dans un grand plat puis cuire le tout au four à 200°C pendant 25 minutes. \n",
      "Servir bien chaud avec une petite salade !\n",
      "\n",
      " : vous pouvez ajouter des légumes : carottes, poireaux…\n",
      "Mélanger dans le bol d’un robot la farine avec la levure, 2 c-à-s de sucre en poudre et les grains de la gousse de vanille fendue et grattée. \n",
      "Ajouter l’œuf battu, le lait, 1 c-à-s de rhum, 1 c-à-s de fleur d’oranger et le beurre fondu. \n",
      "Pétrir pour obtenir une boule de pâte. Filmer et laisser reposer 30 minutes. \n",
      "Abaisser la pâte sur 0,5 cm d’épaisseur et détailler en rectangles de 10 x 4 cm puis inciser l’intérieur. \n",
      "Porter l’huile de friture à 180°C. \n",
      "Y frire successivement les bugnes. Égoutter sur du papier absorbant et saupoudrer de sucre glace. Servir immédiatement.\n",
      "\n",
      "\n",
      "\n",
      "\n",
      "category\n",
      "Desserts\n",
      "Entrées\n",
      "Goûters\n",
      "\n",
      "\n",
      "time\n",
      "38\n",
      "30\n",
      "60\n",
      "\n",
      "\n",
      "ingredients\n",
      "['Framboise', 'Fraise', 'Myrtille', 'Yaourt nature à la grecque', 'Miel liquide']\n",
      "['Orange', 'Pamplemousse', 'Mangue', 'kumquats', 'Kaki', 'Cassonade', 'Étoile de badiane', 'Citron', 'Bâton de cannelle', 'Gingembre moulu']\n",
      "['Amande effilée', 'Œuf', 'Sel fin', 'Sucre vanillé', 'Sucre', 'Huile de colza', 'Farine', 'Levure chimique', 'Lait', 'Fraise', 'Beurre ramolli', 'Mascarpone', 'Saint môret®', 'Sucre glace', 'Extrait de vanille']\n",
      "\n",
      "\n",
      "ingredients_units\n",
      "[None, None, 'g', 'cl', 'g']\n",
      "['kg', 'g', 'g', None, None, None, None, 'g']\n",
      "[None, 'c. à s.', 'c. à s.', 'g', 'g', None, 'g']\n",
      "\n",
      "\n",
      "url\n",
      "https://www.lidl-recettes.fr/recettes/mac-and-cheese-au-potimarron-et-noix-de-cajou\n",
      "https://www.lidl-recettes.fr/recettes/paves-de-cerf-sauce-au-chocolat\n",
      "https://www.lidl-recettes.fr/recettes/croque-pane-jambon-de-bayonne-et-chevre\n",
      "\n",
      "\n",
      "title\n",
      "Tarte fine de légumes grillés, parmesan et basilic\n",
      "Cookies au citron\n",
      "Panna cotta verte\n",
      "\n",
      "\n"
     ]
    }
   ],
   "source": [
    "# Print 3 random examples for each key\n",
    "import random   \n",
    "for key in keys:\n",
    "    print(key)\n",
    "    i = 0\n",
    "    while i < 3:\n",
    "        try:\n",
    "            print(random.choice(lines)[key])\n",
    "            i += 1\n",
    "        except KeyError:\n",
    "            continue\n",
    "    print('\\n')"
   ]
  },
  {
   "cell_type": "code",
   "execution_count": 5,
   "metadata": {},
   "outputs": [
    {
     "name": "stdout",
     "output_type": "stream",
     "text": [
      "[None, 'cl', 'g', 'ml', 'c. à s.', 'c. à c.', 'tranche', 'brin', 'pincée', 'sachet', 'pot', 'feuille', 'L', 'kg', 'botte', 'tasse', 'boule', 'branche', 'bille', 'boîte', 'Boîte', 'carré', 'cm', 'unité', 'part', 'conserve', 'plaquette']\n",
      "['Litchi', 'Citron vert', 'Crème de coco', 'Yaourt nature au soja', 'Cassonade', 'Agar-agar', 'Biscuit vegan', 'Margarine', 'Caille nature', 'Cidre', 'Bouillon de poulet', 'Pomme', 'Champignon', 'Lardon fumé', 'Échalote', \"Huile d'olive\", 'Beurre', 'Pomme de terre', 'Truffe', 'Clémentine', 'Sucre glace', 'Yaourt nature à la grecque', 'Banane', \"Lait d'amande\", 'Yaourt nature', 'Huile de noix', 'Graines de lin dorées', 'Miel liquide', '4 épices moulues', 'Courge butternut', 'Châtaigne', \"Jeune pousse d'épinard\", 'Noisette décortiquée', 'Ricotta', \"Gousse d'ail\", 'Thym séché', 'Pain de campagne', 'Œuf', 'Crème liquide entière', 'Beurre demi-sel', 'Oignon rouge', 'Vinaigre balsamique', 'Eau', 'Mâche', 'Fleur de sel', 'Poivre noir', 'Jambon cru', 'Cresson', \"Huile d'olive à la truffe\", 'Vinaigre blanc', 'Bacon', 'Fromage frais', 'Ciboulette', 'Gruyère râpé', 'Mesclun', 'Sel fin', 'Farine', 'Lait', 'Chocolat blanc', 'Confiture de framboises', 'Colorant alimentaire', 'Mascarpone', 'Framboise', 'Orange', 'Pamplemousse', 'Mangue', 'kumquats', 'Kaki', 'Étoile de badiane', 'Citron', 'Bâton de cannelle', 'Gingembre moulu', 'Filet de dinde', 'Cranberries', 'Jus de pomme', 'Cannelle moulue', 'Radis noir', 'Saumon fumé', 'Aneth', 'Vin rouge', \"Sirop d'érable\", 'Raisin rouge', 'Racine de gingembre', 'Potiron', 'Pavé de saumon', 'Filet de merlan', 'Mandarine', 'Oignon nouveau', 'Fenouil', 'Clou de girofle', 'Jus de grenade', 'Sucre', 'Feuille de gélatine', 'Ananas', 'Rhum ambré', 'Amandes en poudre', 'Caramel liquide', 'Levure chimique', \"Epices à pain d'épice\", 'Marrons glacés', 'Amande mondée', 'Langoustine', 'Blanc de poireau', 'Carotte', 'Cognac', 'Concentré de tomates', 'Magret de canard', 'Vin blanc', 'Riz spécial risotto', 'Bouillon de légumes', 'Panais', 'Noix de Saint-Jacques', 'Gousse de vanille', 'Oignon jaune', 'Miettes de crabe', \"Jaune d'œuf\", 'Brandade de morue', 'Emmental râpé', 'Olive noire dénoyautée', 'Queue de homard', 'Branche de céleri', 'Persil', 'Filet de maquereaux', 'Chèvre frais', 'Tabasco', 'Roquefort', 'Huître creuse', 'Crème liquide légère', 'Chapelure', 'Gros sel', 'Navet', 'Chocolat noir', 'Oreo®', \"Pâte d'amande orange\", 'Cuisse de lapin', 'Bière blonde', 'Moutarde fine', 'Feuille de laurier', 'Vinaigre de Xérès', 'Petits pois', 'Pois chiches', 'Huile de coco', 'Lait de coco', 'Curcuma moulu', 'Homard', 'Crème épaisse', 'Dose de safran', 'Levure de boulanger', 'Cacao en poudre', 'éclat de nougatine', 'Filet de bar', 'Basilic', 'Beurre ramolli', 'Confiture de myrtilles', \"Blanc d'œuf\", 'Sucre coloré', 'Fécule de maïs', 'Petit œuf en chocolat', 'Pistache', 'Spéculoos', 'Crème fleurette', 'Chocolat au lait', 'Filet de daurade', 'Tomate', 'Tomate séchée marinée', 'Noix de cajou', 'Coriandre', 'Piment vert', 'Piment rouge', 'Whisky pur malt', 'Ravioles du Dauphiné', 'Cèpe', 'Crevette entière cuite', 'Ail en poudre', \"Moutarde à l'ancienne\", 'Estragon', 'Amaretto', 'Café espresso', 'Parmesan râpé', 'Origan moulu', 'Noix de muscade moulue', 'Lentille verte', 'Aubergine', 'Jus de citron', 'Cuisse de poulet', 'Pain pita', 'Tomate cerise', 'Feta', 'Zeste de citron', 'Baguette', 'Brocoli', 'Parmesan', 'Pignon de pin', 'Tofu', 'Menthe', 'Cumin', 'Tzatziki', 'Roquette', 'Concombre', 'Asperge verte', 'Grenade', 'Prosecco', 'Glaçon', \"Zeste d'orange\", 'Mozzarella', 'Sauce tomate arrabiata', 'Viande hachée de veau', 'Blanc de poulet', 'Quinoa bio', 'Olive verte dénoyautée', 'Petits pois surgelés', 'Pain complet', 'Rôti de porc', 'Physalis', 'Spaghetti', 'Palourde', 'Sucre vanillé', 'Noix de coco rapée', 'Bicarbonate', 'Paprika', 'Tagliatelles', 'Amande entière', 'Extrait de vanille', 'Arôme de fleurs d’oranger', 'Poireau', 'Pain de mie', 'Edam', 'Pâte filo', 'Huile de pistache', \"Extrait d'amande amère\", 'Cerise dénoyautée', 'Feuille de brick', 'Fumet de poisson', 'Patate douce', 'Piment moulu', 'Crackers', 'Baies roses', 'Filet de rouget barbet', \"Filet d'anchois à l'huile\", 'Dos de cabillaud', \"Piment d'espelette\", 'Moules', 'Citronnelle', 'Chorizo', 'Champagne', 'Flocons d’avoine', 'Curry', 'Pois cassés', 'Coriandre moulue', 'Amande effilée', 'Avocat', 'pain aux noix', 'Fraise', 'Cointreau®', 'Boisson végétale au soja', 'Crème de soja', 'Caviar', 'Crème de praline', 'Mini-meringue', 'Huile de tournesol', 'Mousse de canard', 'Betterave rouge cuite', 'Groseille', 'Foie gras de canard', 'Céleri-rave', 'Graines de courge', 'Cardamome moulue', 'Riz Basmati', 'Sauce tomate', 'Polenta précuite', 'Gorgonzola', 'Beaufort', 'Poire', 'Lait entier', 'Lait en poudre', 'Crème de marrons', 'Raisin sec', 'Pâte sablée', 'Noix de pécan', 'Filet de cabillaud', 'Feuille de pâte à ravioles', 'Kiwi', 'Jus de cranberrie', 'Vodka', 'Sucre de canne liquide', 'Jus de mandarine', 'Chou-fleur', 'Graines de lin brunes', 'Herbes de provence', 'Pâte brisée', 'Épinards', 'Chou rouge', 'Blette', 'Graines de sésame', 'Falafel', 'Biscuits sablés', 'Quasi de veau', 'Bouillon de bœuf', 'Potimarron', 'Marron entier', 'Sauce soja', 'Boulgour', 'Lait concentré sucré', 'Lait concentré non sucré', 'Beurre de cacahuètes', 'Cacahuètes', 'Boudin blanc à la truffe', 'Cerfeuil', 'Côte de veau', 'Biscotte', 'Romarin séché', 'Pain durci', 'Bouquet garni', 'Pomme de terre grenaille', 'Fécule de blé', 'Tomate pelée', 'Jus de citron vert', 'Filet de saumon entier', 'Lentilles', 'Courgette', \"Farine d'orge\", \"Farine d'épeautre\", 'Cerneaux de noix', 'Cuisse de canard confit', 'Endive', 'Vinaigre de cidre', 'Pâte à pizza', 'Jambon cuit', 'Fromage à raclette', 'Topinambour', 'Vinaigre de riz', 'Vinaigre de framboise', 'Pépites de chocolat', 'Fromage blanc', 'Faisselle', 'Vinaigre de vin', 'Huile de friture', 'Miel de fleurs', 'Haricot blanc', 'Mayonnaise', 'Melon', 'Bâtonnet en bois', 'Sirop de grenadine', \"Jus d'orange\", 'Limonade', 'Semoule', 'Jus de citron sucré', 'Pastèque', 'Haricot vert', 'Noix', 'Salade verte', 'Tartelette à la fraise', 'Finger au chocolat', 'Fraise Tagada', 'Cornet de glace', 'Poivrons grillés', 'Mousse au chocolat', 'Kirsch', 'Muesli bio nature', 'Rhum blanc', 'Mont d’Or au lait cru', 'Filet de poulet', 'Pain rassis', 'Sucrine', 'Vinaigre balsamique blanc', \"Côtelette d'agneau\", 'Poivron jaune', 'Tomate cœur de bœuf', 'Câpres', 'Abricot', 'Cerise', 'Nutella®', 'Myrtille', 'Pâtes orecchiettes', \"Coeur d'artichaut\", 'Fève', 'Tortillas nature', 'Crottin de chèvre', 'Sauce blanche', 'Mirabelle', 'Raisin blanc', 'Houmous', 'Épices tandoori', 'Cornichon', 'Ketchup', 'Smarties®', 'Barquette au chocolat', 'Pâte à tartiner aux noisettes', 'Coquillette', 'Steak haché pur bœuf', 'Arôme naturel liquide vanille', 'Sirop de menthe', 'Riz rond', 'Filet de canard', 'Poivron rouge', 'Lentilles corail', 'Escalope de veau', 'Thon', 'Pâte feuilletée', 'Rillettes au crabe', 'Carpaccio de poulpe', 'Allumettes de lardons', 'Oignon blanc', 'Feuille de lasagnes', 'Girolle', 'Camembert', 'Calvados', \"Fourme d'Ambert\", 'Prune rouge', 'Osso bucco de dinde', 'Café soluble', 'Ferrero Rocher®', \"Pruneaux d'Agen\", 'Citron confit', 'Orange confite', 'Bière brune', 'Thé vert', 'Noisettes en poudre', 'Chocolat praliné', 'Crème chantilly', 'Morbier', 'Œuf de caille', 'Filet mignon de porc', 'Comté', 'Lapin entier découpé', 'Bisque de homard', 'Crème de moka', 'Liqueur à la crème de Whisky', 'Grain de café', 'Gnocchi', 'Viande hachée pur bœuf', 'Tapenade', 'Foie gras de canard cru extra', \"Confiture d'abricots\", 'Pulpe de tomate', 'Poivre aux cinq baies', 'Rôti de bœuf', 'Escalope de foie gras de canard', 'Fruit de la passion', 'Chapon', 'Farce de porc', 'Porto blanc', 'Vitelotte', \"Pâte d'amande\", 'Poitrine de porc fumée', 'Queue de crevette', 'Légumes à potage', 'Vin rouge Cabernet Sauvignon', 'Choux de Bruxelles', 'Gambas', 'Filet de colin d’Alaska', 'Escalope de dinde', 'Lard fumé', 'Mélange de fruits rouges', 'Canneberge séchée', 'Compote de pommes', 'Vinaigre balsamique à la pomme', 'Maïs cuit', 'Pain Ciabatta', 'Pintade', 'Grain de café enrobé de chocolat', 'Dinde entière', 'Brioche', 'Thé noir', 'anis étoilés', 'Tournedos de bœuf', 'Madère', 'Chou vert', 'épaule de veau', 'Echine de porc', 'talon de jambon', 'Morille séchée', 'Fine escalope de poulet', '5 épices', 'Cornflakes', 'Cuisse de canard', 'Porto rouge', 'Médaillon de veau', 'Poudre à crème pâtissière', 'Crêpe dentelle de Bretagne', 'Pâte à tartiner à la pistache', 'Pâte de curry rouge', 'Confit de figues', 'Fromage Sainte Maure de Touraine', 'Poulet entier', 'Sirop de fruits rouges', 'Brin de romarin', 'Radis', 'Huile de noisettes', 'Liqueur de clémentine', 'Piment de Cayenne', 'Baie de genièvre', 'Mimolette', 'Farine de blé complète', 'Cheddar', 'Sauce Worcestershire', 'Vinaigre doux', 'Curly', \"Huile d'arachide\", 'Nouilles chow mein', 'Pousses de soja', 'Huile de sésame', 'Chou blanc', 'Feuille de riz', 'Nouilles transparentes', 'Sauce nuoc mam', 'Farine de riz', 'Poivron vert', 'Riz thaï', 'Penne', 'Sauce chili', 'Pain à hot-dog', 'Arôme de café', 'Petit beurre', 'Skyr', 'Chamallow', 'Haricots rouges', 'Thé matcha', \"Sirop d'agave\", 'Chips tortilla au chilli', 'Farine de maïs', 'Cheddar râpé', 'Compote de poires', 'Filet de thon', 'Pain à hamburger', 'Huile de colza', 'Glace à la vanille', 'Cerises au sirop', 'Bille en sucre multicolore', 'sauge', \"Pain d'épices\", 'bulot', 'Figue', 'Figue séchée', 'Pêche blanche', 'Chou chinois', 'Sarrasin décortiqué', 'Coppa', 'Pain de seigle', 'Pastrami', 'Muffin anglais salés', 'Pain à bagel', 'Filet de truite', 'Ras-el-hanout', 'Sauce pesto au basilic', 'Pancetta', 'Sablé au chocolat', \"Côte d'agneau\", 'Fèves décortiquées surgelées', 'Limoncello', 'Épis de maïs', 'Poudre de cappuccino', 'Pecorino romano', 'Daurade royale entière', 'Mini blinis', 'Pilon de poulet', 'Fromage de chèvre en bûche', 'Farfalle', 'Snickers®', \"Bonbons M&M's\", 'Wrap', 'Entrecôte charolaise', 'Pêche jaune', 'Cookie au chocolat', \"Bleu d'Auvergne\", 'Steak de porc', 'Pavé de truite', 'Gingembre confit', 'Saké', 'Tranche de jambon fumé', 'Chair à saucisse', 'Paupiette de veau', 'Riz long', 'Épices pour colombo', 'Fromage Epoisses', 'Fromage pur brebis', 'Crêpe de froment', 'Bavette d’Aloyau', 'Saucisse de porc', 'Œufs de truite', 'Tranche de poitrine fumée', 'Viande de bœuf à bourguignon', 'Bière ambrée', 'Moutarde mi-forte', 'Saucisse de Montbéliard', \"Saucisse à l'ail\", 'Rognon de veau entier', 'Papaye', 'Petit saucisson', 'Gouda', \"Épaule d'agneau\", 'Eau gazeuse', 'Rocamadour', 'Abricot moelleux', 'Brie', 'Fusilli', 'Fromage frais ail et fines herbes', 'Tomate semi-séchée', 'Travers de porc', 'Steak de bœuf', 'Riz spécial sushi', 'Filet de carrelet', 'Tarama', 'Décorations en sucre pour gâteau', 'Boudin noir', 'Glace au café', 'Capsule de café', 'Bar entier', 'Fond de veau', \"Feuille d'algue séchée\", \"Marmelade d'orange\", 'Ossau iraty', 'Faux filet de bœuf', 'Tête de moine', 'Escalope de porc', 'Risotto à la chicorée rouge', 'Poularde', 'Vin jaune', 'Biscuit à la cuillère', 'Blé précuit', 'Jus de pamplemousse', 'Pleurotes', 'Caramel au beurre salé', 'amande grillé et salé', 'Poulpe cuit', 'Copeaux de chocolat blanc', 'Viande hachée de porc', 'Saucisse fumée', 'Crème fouettée', 'Choucroute au Riesling', 'Spätzle aux 4 œufs', 'Surimi', \"Jus d'ananas\", 'Céleri', 'Salami', 'Huile de pépins de courges', 'Riesling sec', 'Filet de porc', 'Liqueur de cassis', 'Jus de raisin', 'Langue de chat', 'Mikado®', \"Mélange d'herbes pour pizza\", 'Purée de potiron', 'Boudoir', 'Galette de blé noir', 'Pêches au sirop', 'Tomate à farcir', 'Truite fumée', 'Saucisse cocktail', 'Glaçage au chocolat noir', 'Gin', 'Nougat de Montélimar', 'Vinaigre balsamique à la figue', 'Liqueur de myrte', 'Confiture de griottes', 'Riz au jasmin', 'Cerises confites', 'Tortelloni ricotta épinards', 'Piment vert mariné au fromage de brebis', 'Piment rouge séché', 'Olive verte farcie au poivron', 'Réglisse tendre', \"Mélange d'herbes (persil, ciboulette, aneth, basilic...)\", 'Copeaux de chocolat noir', 'Pop corn au beurre', 'Saucisse de Strasbourg', 'Escargots préparés', 'Reblochon de Savoie', 'Petit pain', 'Harissa', 'Praline rose', 'Perle de sucre', \"Viande hachée d'agneau\", 'Armagnac', \"Filet d'agneau\", 'Pâtes risoni', 'Saucisse de Toulouse', 'Épinard surgelé', 'Vin Marsala', 'Apérol', 'Osso bucco', 'Filet de bœuf', 'Grain de poivre', 'Viande des Grisons', 'Croissant', 'Fondant blanc', \"Pavé d'autruche mariné\", 'Saint môret®', 'Baileys', \"Liqueur d'orange\", 'Pâte pour pâté impériaux', 'Sauce salsa', 'Datte', 'Rhubarbe', 'Vin rosé', 'Merlan entier', \"Gigot d'agneau\", 'Gésiers de canard confits', 'Croûtons', 'Pois gourmands', 'Mélange de maïs et haricots rouges', 'Citronnelle moulue', 'Boulette de bœuf à la provençale', 'Confiture de mangue', 'Thé Darjeeling', 'Tomate côtelée', 'Antipasti italien', 'Nectarine', 'Thé vert citron', 'Ouzo zachos', 'Oignons grillés', 'Filet de hareng', 'Emmental', 'Café noir moulu', 'Sauce piri piri', 'Coque', 'Fromage Saint-Marcellin', 'Orange sanguine', 'Pavé de cerf mariné au vin', 'Livarot', 'Tomme de montagne', 'Maroilles', 'Munster', 'Sirop de fraise', \"Knack d'Alsace\", 'Abondance', 'Gelée instantanée', 'Macaroni', 'Fromage pour nachos', \"Sardine à l'huile d'olive\", 'Carambar®', 'Riz soufflé au chocolat', 'Gressin', 'Fromage Manchego', 'Gelée de groseille', 'Saucisse de Morteau', 'Côte de porc échine', 'Côte de bœuf', 'Glace pilée', 'Sauce barbecue', 'Mûre', 'Biscuit rose de Reims', 'Coulis de framboise', 'Verveine', 'Filet de lieu noir', 'Thé blanc', 'Tequila', 'Triple sec', 'Rumsteck à griller', 'Fond pour tarte flambée', 'Truffe au chocolat blanc', 'Vin mousseux demi-sec', 'Jus multifruits', 'Porc à la gyros', 'Frites surgelées', 'Merguez', 'Riz spécial paëlla', 'Blanquette de veau', 'Cappelletti', 'Sauce pesto aux champignons', 'Parmesan en copeaux', 'Vinaigrette', 'Confiture de fraise', 'Gingembre pour sushis', 'Andouille de Guéméné', 'Petit suisse', 'Nem au poulet', 'Noix de coco', 'Jus de clémentine', 'Cabecou', 'Artichaut', 'Graisse de canard', 'Litchi au sirop', 'Œufs de lompe', 'Chou pâtissier', 'Pinot gris', 'Saucisse végétale', 'Sucre spécial confiture', 'Épaule de boeuf', \"Crème d'amande\", 'Raviolis au jambon cru', 'Café froid', 'Barre chocolatée Bellona', 'Liqueur de coco', 'Poire au sirop', 'Noix de macadamia', 'Gruyère suisse', 'Thé Earl grey', 'Jarret de porc demi-sel', 'Graines de pavot', 'Carpaccio de bœuf', 'Cannelloni', 'Décoration en chocolat', \"Mélange d'épices bio pour wok\", 'Aiguillette de poulet', 'Préparation à base de fruits à la rhubarbe', 'Bière blanche', 'Risotto aux asperges', 'Maïs à pop corn', \"Mélange d'épices pour barbecue\", 'Courgette ronde', 'Barre chocolatée Kinder Bueno®', 'Nouilles soba', 'Yaourt à la vanille', 'Coulis de fraise', 'Glace à la menthe', 'Glace au chocolat', 'Coulis de chocolat', 'Sauce aigre douce', 'Billes de cuisson (ex: haricots secs)', 'Kit pour tacos', 'Batavia', 'Endive rouge', 'Chalumeau de cuisine', 'Tomates variées', 'Yaourt pêche-passion', 'Asperge blanche', \"Fromage Pont l'Evêque\", 'Saint-Nectaire', 'Galette végétale', 'Tomate cocktail', 'Pâte à tartiner de Spéculoos', 'Cola', 'Sauce yakitori', 'Betterave crue', 'Petite courge', 'Mélange de fruits de mer surgelés', \"Mélange d'épices mexicaines\", 'Bâton de bretzel salé', \"Crevette rouge d'Argentine\", 'Farine de seigle', 'Nectar de pêche', 'Gaufre à toaster', 'Cervelas', 'Thé noir aromatisé fruits rouges', 'Truite arc en ciel', 'Filet de limande', 'Olives vertes farcies aux amandes', 'Sucre en morceaux', 'Gelée de pommes', 'Palet breton', 'Sorbet citron', 'Ananas au sirop', 'infusion verveine', 'Kiri®', 'Jus de carotte', 'Kiri', 'Chair de courge', 'Tournedos de magret de canard', 'Confiture de pêche', 'Eau de coco', 'Abricots au sirop', 'Croquette de pommes de terre', 'Poitrine de porc', 'Foie de volaille', 'Aiguillette de canard', \"Confit d'oignon\", 'Eau de rose', 'Filet de morue', 'Glace aux amandes', 'Melon jaune', 'Purée de pommes de terre en flocons', 'Côte de porc première', 'Sirop de cassis', 'Fine escalope de poulet au paprika', 'Cantal jeune', \"Bonbons d'Halloween\", 'Blanc de dinde', 'Saint Félicien', 'Curaçao bleu', 'Emporte-pièce en forme de lapin', 'Tonic', 'Eau de vie vieille prune', 'Préparation en poudre pour flan à la vanille', 'Glaçage au cacao', 'Tourteau', 'Calamar entier', 'Sorbet fruits rouges', 'Chocolat noir à la menthe', 'Chocolat blanc à la noix de coco', 'Chocolat blanc aux amandes', 'Gaufrette noisette', 'Cacahuètes chocolatées', 'Oursons en gélatine', 'Saucisse', 'Mortadelle bologna', 'Brochette de dinde', 'Chipolatas', 'Pain à durum', 'Guacamole', 'Caviar d’aubergine', 'Tortellinis au bœuf', 'Chou-rave', 'Farine de sarrasin', 'Fromage Halloumi', 'Sorbet framboise', 'crevette rose', 'Cocktail mojito', 'Mélange de graines', 'Sauce Teriyaki', 'Sour cream', 'Maquereau', 'Pain suédois', 'Boursin ail et fines herbes', 'Pain à bruschetta', 'Burrata', 'Graine de chia', 'Madeleine', 'Éclats de truffe', 'Alcool de poire', 'Feuille de salade', 'Mélange de fruits exotiques', 'Pectine', 'Beurre de cacao', 'Raviolis au pesto et basilic', 'Carpaccio de saumon', 'Pomelo', 'Sirop de mûre', 'Purée de citrouille', 'Pain à panini', 'Comté râpé', 'Pâte à tartiner', 'Fanes de légumes (carottes, radis, navets...)', 'Sucre roux', 'Farine de blé noir', 'Pappardelle farcies aux cèpes', 'Sauce Tartuffade', 'Parmigiano', 'Grand Marnier', 'Sirop de cranberry', 'Linguine', 'Toast', 'Macaron au saumon', 'Pérail', 'Œuf de saumon', 'Pain lavash', 'Chaource', 'Chocolat au caramel', 'Glace aux marrons', 'Béchamel', 'Sirop de glucose', 'Raifort', 'Cuisse de dinde', 'Pâte à sucre', 'Suprêmes de poulet', 'Huile de noisette', 'Mogettes', 'Pesto rosso', 'Garam Masala', 'Vol au vent', 'Saucisson', 'Bonbons', 'Sucettes bicolores', 'Barbe à papa', 'Mozzarella râpée', 'Pancake', 'Sirop de citron', 'Pennoni Giganti', \"Fond d'artichaut\", 'Riste d’aubergine à la provençale', 'Mondarella (mozzarella végétarienne)', 'Yaourt à la noix de coco', 'Glace à la cerise', 'Provolone (fromage italien)', 'Algue nori', 'Confiserie de décoration', 'Chanterelles', 'Fromage pour hamburger', 'Onion rings', 'Philadelphia ©', 'Sauce burger', 'Confiture', 'Seiche', 'Vermicelles en sucre', 'Mozzarella Di Bufala', 'Farine de noix de coco', 'Décoration pour gâteau en sucre', 'Kinder Schoko-bons', 'Écrevisse', 'Kit Kat®', 'Pralin', 'Pain au lait', 'Feuilles de vigne', 'Farce de veau', 'Glace à la fraise', 'Liqueur St Germain', 'Ginger beer', 'Porc effiloché', 'Dulce de leche', 'Tablette de chocolat', 'Aïoli', 'Sauce Pili pili', 'Sauce à la truffe noir', 'Brousse', 'Angostura Bitter', 'Filet de plie', 'Farine de pois chiches', 'Spaetzle', 'Baies de goji', 'Pâte de miso', 'Rosette', 'Sésame blanc', 'Lait de soja', 'Andouillette de Troyes', 'Pepperoni', 'Confiture de lait', 'Conchiglioni', 'Pastis', 'Kimchi en bocal', 'Sésame noir', 'Farce de volaille', 'chips', 'Bresaola', 'Neufchâtel']\n",
      "['Desserts', 'Plats', 'Boissons', 'Entrées', 'Apéritifs', 'Goûters', 'Petit déjeuner', 'Préparation et sauce', 'Viandes rouges', 'Cuisine française', 'Burgers', 'Fruits de mer & Crustacés', 'Brunch', 'Entrées chaudes', 'Plats faciles', 'Desserts faciles', 'Recettes rapides']\n"
     ]
    }
   ],
   "source": [
    "#list all uniques of each column\n",
    "unique_units = []\n",
    "unique_ingredients = []\n",
    "unique_categories = []\n",
    "for elem in lines:\n",
    "    ingredients = elem['ingredients']\n",
    "    units = elem['ingredients_units']\n",
    "    category = elem['category']\n",
    "\n",
    "    for ingredient in ingredients:\n",
    "        if ingredient not in unique_ingredients:\n",
    "            unique_ingredients.append(ingredient)\n",
    "    for unit in units:\n",
    "        if unit not in unique_units:\n",
    "            unique_units.append(unit)\n",
    "    if category not in unique_categories:\n",
    "        unique_categories.append(category)\n",
    "\n",
    "print(unique_units)\n",
    "print(unique_ingredients)\n",
    "print(unique_categories)\n",
    "        "
   ]
  },
  {
   "cell_type": "code",
   "execution_count": 6,
   "metadata": {},
   "outputs": [
    {
     "name": "stdout",
     "output_type": "stream",
     "text": [
      "[None, 'cl', 'g', 'ml', 'c. a s.', 'c. a c.', 'tranche', 'brin', 'pincee', 'sachet', 'pot', 'feuille', 'l', 'kg', 'botte', 'tasse', 'boule']\n",
      "['litchi', 'citron vert', 'creme de coco', 'yaourt nature au soja', 'cassonade', 'agar-agar', 'biscuit vegan', 'margarine', 'caille nature', 'cidre', 'bouillon de poulet', 'pomme', 'champignon', 'lardon fume', 'echalote', \"huile d'olive\", 'beurre']\n",
      "['desserts', 'plats', 'boissons', 'entrees', 'aperitifs', 'gouters', 'petit dejeuner', 'preparation et sauce', 'viandes rouges', 'cuisine francaise', 'burgers', 'fruits de mer & crustaces', 'brunch', 'entrees chaudes', 'plats faciles', 'desserts faciles', 'recettes rapides']\n"
     ]
    }
   ],
   "source": [
    "def clean_french(string):\n",
    "    if string is None:\n",
    "        return None \n",
    "    string = unidecode.unidecode(string)\n",
    "    string = string.lower()\n",
    "    string = re.sub(r'œ', 'oe', string)\n",
    "    return string\n",
    "\n",
    "unique_units_c = []\n",
    "unique_ingredients_c = []\n",
    "unique_categories_c = []\n",
    "for unit,ingredient,category in zip(unique_units,unique_ingredients,unique_categories):\n",
    "    unique_units_c.append(clean_french(unit))\n",
    "    unique_ingredients_c.append(clean_french(ingredient))\n",
    "    unique_categories_c.append(clean_french(category))\n",
    "\n",
    "print(unique_units_c)\n",
    "print(unique_ingredients_c)\n",
    "print(unique_categories_c)    "
   ]
  },
  {
   "cell_type": "code",
   "execution_count": 7,
   "metadata": {},
   "outputs": [
    {
     "name": "stdout",
     "output_type": "stream",
     "text": [
      "[('sel fin', 2585), ('poivre noir', 2256), (\"huile d'olive\", 1554), ('beurre', 1322), ('oeuf', 1259), ('sucre', 1126), ('farine', 1092), (\"gousse d'ail\", 827), ('oignon jaune', 693), ('lait', 554), ('citron', 493), ('creme epaisse', 482), ('persil', 447), ('levure chimique', 393), ('creme liquide entiere', 326), ('sucre glace', 316), ('huile de tournesol', 302), ('echalote', 299), ('pomme de terre', 297), ('cassonade', 289), ('miel liquide', 286), ('carotte', 286), (\"jaune d'oeuf\", 282), ('chocolat noir', 279), ('basilic', 279), ('tomate', 279), ('citron vert', 255), ('thym seche', 229), ('eau', 224), ('oignon rouge', 209), ('bouillon de legumes', 201), ('coriandre', 196), ('cumin', 194), ('oignon nouveau', 188), ('vin blanc', 180), ('gousse de vanille', 179), ('ciboulette', 178), ('paprika', 174), ('courgette', 173), ('sauce soja', 172), ('cannelle moulue', 171), ('sucre vanille', 169), ('poivron rouge', 169), ('champignon', 160), ('creme liquide legere', 160), ('parmesan rape', 160), ('pate feuilletee', 154), ('menthe', 151), ('orange', 148), ('fecule de mais', 145), ('emmental rape', 142), ('vinaigre balsamique', 141), ('fleur de sel', 140), ('chapelure', 140), ('tomate cerise', 140), ('moutarde fine', 138), ('pomme', 135), ('concombre', 134), ('amandes en poudre', 130), ('avocat', 128), ('mozzarella', 125), (\"blanc d'oeuf\", 123), ('piment moulu', 122), ('bouillon de poulet', 118), ('racine de gingembre', 114), ('cacao en poudre', 114), ('fromage frais', 109), ('beurre demi-sel', 108), ('noisette decortiquee', 106), ('chevre frais', 106), ('mascarpone', 105), ('aubergine', 104), ('graines de sesame', 104), ('beurre ramolli', 102), ('feta', 98), ('lait de coco', 96), ('framboise', 94), ('saumon fume', 93), ('noix de muscade moulue', 93), ('curry', 93), ('jus de citron sucre', 93), ('roquette', 92), ('pain de mie', 92), ('poivron jaune', 90), ('olive noire denoyautee', 89), ('mangue', 88), ('banane', 87), ('pistache', 87), ('miel de fleurs', 87), ('pate brisee', 86), ('lardon fume', 84), ('aneth', 83), ('salade verte', 83), ('sauce tomate', 82), ('feuille de gelatine', 81), ('viande hachee pur boeuf', 81), ('herbes de provence', 80), ('filet de poulet', 80), ('parmesan', 79), ('yaourt nature a la grecque', 78), ('concentre de tomates', 78), ('gingembre moulu', 77), ('jambon cru', 76), ('jus de citron', 76), ('pignon de pin', 76), ('amande entiere', 75), ('crevette entiere cuite', 74), ('oignon blanc', 73), ('chorizo', 72), ('fraise', 72), ('pave de saumon', 71), ('levure de boulanger', 71), ('jambon cuit', 70), ('poire', 69), ('lait entier', 69), ('yaourt nature', 68), ('poireau', 68), ('bacon', 67), ('ricotta', 66), ('chocolat blanc', 65), ('fromage blanc', 64), ('extrait de vanille', 63), ('olive verte denoyautee', 61), ('cerneaux de noix', 61), (\"piment d'espelette\", 59), ('pain de campagne', 57), ('patate douce', 57), ('amande effilee', 56), ('raisin sec', 56), ('pois chiches', 55), ('ananas', 54), ('curcuma moulu', 54), ('tomate sechee marinee', 54), ('betterave rouge cuite', 54), ('pulpe de tomate', 53), ('poivron vert', 53), ('vin rouge', 52), ('mayonnaise', 52), ('epinards', 51), ('petits pois', 50), ('chocolat au lait', 50), ('sauce pesto au basilic', 49), ('colorant alimentaire', 48), ('brocoli', 48), ('coriandre moulue', 48), ('vinaigre de cidre', 48), ('huile de friture', 48), (\"moutarde a l'ancienne\", 47), ('origan moulu', 47), ('radis', 47), ('riz long', 47), ('noix de cajou', 46), ('noix de coco rapee', 46), ('feuille de brick', 46), ('cacahuetes', 46), (\"sirop d'erable\", 45), ('rhum ambre', 45), ('asperge verte', 45), ('tomate pelee', 45), ('cornichon', 45), ('noix', 44), ('capres', 44), ('huile de sesame', 44), ('magret de canard', 43), ('estragon', 43), ('pate a pizza', 43), ('pepites de chocolat', 43), ('pamplemousse', 42), (\"jeune pousse d'epinard\", 41), ('blanc de poulet', 41), ('foie gras de canard', 41), ('jus de citron vert', 41), ('tortillas nature', 41), ('myrtille', 40), ('piment rouge', 39), ('dos de cabillaud', 39), ('branche de celeri', 38), ('zeste de citron', 38), ('baguette', 38), ('ketchup', 38), ('fromage de chevre en buche', 38), ('filet de cabillaud', 37), ('dose de safran', 36), ('glacon', 36), ('beurre de cacahuetes', 36), ('bouquet garni', 36), ('thon', 36), ('romarin seche', 35), ('haricot vert', 35), ('comte', 35), ('bicarbonate', 34), ('kiwi', 34), ('vinaigre de vin', 34), ('noix de saint-jacques', 33), ('biere blonde', 33), ('vinaigre de riz', 33), ('semoule', 33), ('huile de colza', 33), ('gruyere rape', 32), ('tagliatelles', 32), ('bouillon de boeuf', 32), ('filet de saumon entier', 32), ('creme fleurette', 31), ('cuisse de poulet', 31), ('quinoa bio', 31), ('potimarron', 31), ('courge butternut', 30), ('vinaigre blanc', 30), ('fenouil', 30), ('riz special risotto', 30), (\"filet d'anchois a l'huile\", 30), ('riz basmati', 30), ('peche jaune', 30), ('tofu', 29), ('champagne', 29), ('rhum blanc', 29), ('noisettes en poudre', 29), ('mais cuit', 29), ('panais', 28), ('arome naturel liquide vanille', 28), ('pain a hamburger', 28), ('mache', 27), ('jus de pomme', 27), ('cafe espresso', 27), (\"jus d'orange\", 27), ('abricot', 27), ('eau gazeuse', 27), ('huile de coco', 26), ('spaghetti', 26), ('sucre de canne liquide', 26), (\"arome de fleurs d'oranger\", 25), (\"flocons d'avoine\", 25), ('sucre roux', 25), ('noix de pecan', 24), ('pasteque', 24), ('camembert', 24), ('filet mignon de porc', 24), ('cheddar rape', 24), ('glace a la vanille', 24), ('gouda', 24), ('tomate semi-sechee', 24), ('navet', 23), ('fumet de poisson', 23), ('penne', 23), ('moutarde mi-forte', 23), ('4 epices moulues', 22), ('cresson', 22), ('feuille de laurier', 22), ('vinaigre de xeres', 22), ('petits pois surgeles', 22), ('chou-fleur', 22), ('sucrine', 22), ('figue', 22), ('clementine', 21), ('clou de girofle', 21), ('marron entier', 21), ('haricot blanc', 21), ('fruit de la passion', 21), ('sauce nuoc mam', 21), ('grenade', 20), ('pain complet', 20), ('lait concentre sucre', 20), ('pomme de terre grenaille', 20), ('riz rond', 20), ('gambas', 20), ('escalope de dinde', 20), (\"pain d'epices\", 20), ('steak de boeuf', 20), (\"lait d'amande\", 19), ('speculoos', 19), ('citronnelle', 19), ('chou vert', 19), ('pousses de soja', 19), (\"bleu d'auvergne\", 19), ('miettes de crabe', 18), ('tabasco', 18), ('poivrons grilles', 18), ('prune rouge', 18), ('melange de fruits rouges', 18), ('brioche', 18), ('nouilles chow mein', 18), ('tranche de poitrine fumee', 18), ('cranberries', 17), ('roquefort', 17), ('whisky pur malt', 17), ('moules', 17), ('creme de marrons', 17), ('vodka', 17), ('melon', 17), ('gnocchi', 17), ('canneberge sechee', 17), ('fine escalope de poulet', 17), ('chou blanc', 17), ('haricots rouges', 17), ('grain de poivre', 17), ('tomme de montagne', 17), ('chataigne', 16), ('confiture de framboises', 16), ('blanc de poireau', 16), ('cognac', 16), ('pain pita', 16), ('graines de courge', 16), ('endive', 16), ('fromage a raclette', 16), ('muesli bio nature', 16), ('cerise', 16), ('steak hache pur boeuf', 16), ('cheddar', 16), ('ras-el-hanout', 16), ('tranche de jambon fume', 16), ('cidre', 15), ('truffe', 15), ('mandarine', 15), ('gros sel', 15), ('piment vert', 15), ('ail en poudre', 15), ('polenta precuite', 15), ('pate sablee', 15), ('citron confit', 15), ('abricot moelleux', 15), ('fusilli', 15), ('pate a tartiner', 15), ('potiron', 14), ('cepe', 14), ('amaretto', 14), ('lentille verte', 14), ('biscuits sables', 14), ('cerfeuil', 14), ('orange confite', 14), ('creme chantilly', 14), ('poulet entier', 14), ('filet de boeuf', 14), ('datte', 14), ('sauce piri piri', 14), ('etoile de badiane', 13), ('baton de cannelle', 13), ('homard', 13), ('prosecco', 13), ('cerise denoyautee', 13), ('baies roses', 13), ('cardamome moulue', 13), ('gorgonzola', 13), ('sirop de grenadine', 13), ('lentilles corail', 13), ('oeuf de caille', 13), (\"filet de colin d'alaska\", 13), ('pain a hot-dog', 13), ('decorations en sucre pour gateau', 13), ('biscuit a la cuillere', 13), ('noix de coco', 13), ('huile de noix', 12), ('filet de rouget barbet', 12), ('celeri-rave', 12), (\"coeur d'artichaut\", 12), ('feuille de lasagnes', 12), ('girolle', 12), ('poivre aux cinq baies', 12), ('legumes a potage', 12), ('morille sechee', 12), ('pain a bagel', 12), ('viande de boeuf a bourguignon', 12), ('riz special sushi', 12), ('viande hachee de porc', 12), (\"jus d'ananas\", 12), ('filet de porc', 12), ('reblochon de savoie', 12), (\"gigot d'agneau\", 12), ('pois gourmands', 12), ('emmental', 12), ('parmesan en copeaux', 12), ('crevette rose', 12), ('burrata', 12), ('groseille', 11), ('beaufort', 11), ('chou rouge', 11), ('boulgour', 11), ('boudin blanc a la truffe', 11), ('limonade', 11), ('vinaigre balsamique blanc', 11), ('pate a tartiner aux noisettes', 11), (\"pruneaux d'agen\", 11), ('biere brune', 11), ('chocolat praline', 11), ('poitrine de porc fumee', 11), ('lard fume', 11), ('porto rouge', 11), (\"huile d'arachide\", 11), ('chamallow', 11), ('brie', 11), ('gin', 11), ('escargots prepares', 11), ('harissa', 11), ('cote de porc echine', 11), ('raisin rouge', 10), (\"zeste d'orange\", 10), ('roti de porc', 10), ('lentilles', 10), ('pain rassis', 10), ('raisin blanc', 10), ('escalope de veau', 10), (\"fourme d'ambert\", 10), ('cafe soluble', 10), ('morbier', 10), (\"pate d'amande\", 10), ('crepe dentelle de bretagne', 10), ('fromage sainte maure de touraine', 10), ('mimolette', 10), ('pecorino romano', 10), ('daurade royale entiere', 10), ('nectarine', 10), ('oignons grilles', 10), (\"sardine a l'huile d'olive\", 10), ('sauce barbecue', 10), ('mure', 10), ('aiguillette de poulet', 10), ('amande mondee', 9), ('huitre creuse', 9), ('pate filo', 9), ('caviar', 9), ('cuisse de canard confit', 9), ('feve', 9), ('coquillette', 9), ('queue de crevette', 9), ('sauce worcestershire', 9), ('nouilles transparentes', 9), ('sauce chili', 9), ('petit beurre', 9), (\"sirop d'agave\", 9), ('farine de mais', 9), ('caramel au beurre sale', 9), ('celeri', 9), ('truite fumee', 9), ('praline rose', 9), ('melange de mais et haricots rouges', 9), ('maroilles', 9), ('saucisse', 9), ('boursin ail et fines herbes', 9), ('comte rape', 9), ('creme de coco', 8), ('caille nature', 8), ('filet de dinde', 8), ('tzatziki', 8), (\"cotelette d'agneau\", 8), ('smarties(r)', 8), ('the vert', 8), (\"confiture d'abricots\", 8), ('compote de pommes', 8), ('figue sechee', 8), ('limoncello', 8), ('farfalle', 8), ('steak de porc', 8), ('biere ambree', 8), ('filet de carrelet', 8), (\"marmelade d'orange\", 8), ('faux filet de boeuf', 8), (\"filet d'agneau\", 8), ('croutons', 8), ('glace pilee', 8), ('rumsteck a griller', 8), ('agar-agar', 7), ('caramel liquide', 7), ('langoustine', 7), ('oreo(r)', 7), ('viande hachee de veau', 7), ('creme de praline', 7), ('calvados', 7), ('tapenade', 7), ('porto blanc', 7), ('pain ciabatta', 7), ('dinde entiere', 7), ('pate a tartiner a la pistache', 7), ('huile de noisettes', 7), ('piment de cayenne', 7), ('feuille de riz', 7), ('farine de riz', 7), ('pancetta', 7), ('chair a saucisse', 7), ('fromage frais ail et fines herbes', 7), ('fond de veau', 7), ('jus de raisin', 7), ('galette de ble noir', 7), ('riz au jasmin', 7), ('olive verte farcie au poivron', 7), (\"melange d'herbes (persil, ciboulette, aneth, basilic...)\", 7), ('copeaux de chocolat noir', 7), ('petit pain', 7), ('vin rose', 7), ('filet de lieu noir', 7), ('frites surgelees', 7), ('merguez', 7), ('batavia', 7), ('crackers', 6), ('mini-meringue', 6), ('pain durci', 6), ('faisselle', 6), ('nutella(r)', 6), ('crottin de chevre', 6), ('houmous', 6), ('allumettes de lardons', 6), ('roti de boeuf', 6), ('choux de bruxelles', 6), ('5 epices', 6), ('cornflakes', 6), ('pate de curry rouge', 6), ('brin de romarin', 6), ('vinaigre doux', 6), ('chips tortilla au chilli', 6), ('mini blinis', 6), ('pilon de poulet', 6), ('wrap', 6), (\"bavette d'aloyau\", 6), ('tarama', 6), ('boudin noir', 6), (\"feuille d'algue sechee\", 6), ('escalope de porc', 6), ('saucisse fumee', 6), ('creme fouettee', 6), ('salami', 6), ('riesling sec', 6), ('liqueur de cassis', 6), ('boudoir', 6), ('peches au sirop', 6), ('piment rouge seche', 6), ('saucisse de strasbourg', 6), ('munster', 6), ('endive rouge', 6), ('tonic', 6), ('margarine', 5), ('mesclun', 5), ('radis noir', 5), ('marrons glaces', 5), ('queue de homard', 5), ('filet de maquereaux', 5), (\"extrait d'amande amere\", 5), ('boisson vegetale au soja', 5), ('creme de soja', 5), ('jus de cranberrie', 5), ('fecule de ble', 5), ('topinambour', 5), ('kirsch', 5), ('pates orecchiettes', 5), ('mirabelle', 5), ('ferrero rocher(r)', 5), ('lapin entier decoupe', 5), ('bisque de homard', 5), ('escalope de foie gras de canard', 5), ('farce de porc', 5), ('cuisse de canard', 5), ('confit de figues', 5), ('bille en sucre multicolore', 5), ('coppa', 5), ('epis de mais', 5), ('epices pour colombo', 5), (\"epaule d'agneau\", 5), ('bar entier', 5), ('amande grille et sale', 5), ('choucroute au riesling', 5), ('spatzle aux 4 oeufs', 5), ('tortelloni ricotta epinards', 5), ('perle de sucre', 5), ('saucisse de toulouse', 5), ('rhubarbe', 5), ('macaroni', 5), ('tequila', 5), ('confiture de fraise', 5), ('pate a tartiner de speculoos', 5), ('blanc de dinde', 5), ('guacamole', 5), ('graine de chia', 5), ('filet de merlan', 4), ('petit oeuf en chocolat', 4), ('filet de daurade', 4), ('huile de pistache', 4), ('cointreau(r)', 4), ('lait en poudre', 4), ('falafel', 4), ('quasi de veau', 4), ('lait concentre non sucre', 4), ('biscotte', 4), (\"mont d'or au lait cru\", 4), ('foie gras de canard cru extra', 4), ('chapon', 4), ('the noir', 4), ('tournedos de boeuf', 4), ('echine de porc', 4), ('farine de ble complete', 4), ('riz thai', 4), ('skyr', 4), ('the matcha', 4), ('filet de thon', 4), ('cerises au sirop', 4), ('feves decortiquees surgelees', 4), ('entrecote charolaise', 4), ('fromage pur brebis', 4), ('crepe de froment', 4), ('saucisse de porc', 4), ('oeufs de truite', 4), ('saucisse de montbeliard', 4), ('rocamadour', 4), ('travers de porc', 4), ('ossau iraty', 4), ('jus de pamplemousse', 4), ('copeaux de chocolat blanc', 4), ('nougat de montelimar', 4), ('vin marsala', 4), ('croissant', 4), ('gesiers de canard confits', 4), ('tomate cotelee', 4), ('cafe noir moulu', 4), ('orange sanguine', 4), ('sirop de fraise', 4), ('fromage manchego', 4), ('fond pour tarte flambee', 4), ('artichaut', 4), ('cannelloni', 4), ('decoration en chocolat', 4), ('asperge blanche', 4), ('melange de fruits de mer surgeles', 4), ('baton de bretzel sale', 4), ('kiri(r)', 4), ('kiri', 4), ('poitrine de porc', 4), ('filet de morue', 4), ('cote de porc premiere', 4), ('cantal jeune', 4), ('melange de graines', 4), ('eclats de truffe', 4), ('feuille de salade', 4), ('pain a panini', 4), ('parmigiano', 4), ('toast', 4), ('pain lavash', 4), ('fromage pour hamburger', 4), ('vermicelles en sucre', 4), ('tablette de chocolat', 4), ('litchi', 3), ('yaourt nature au soja', 3), (\"huile d'olive a la truffe\", 3), ('kaki', 3), ('cuisse de lapin', 3), ('eclat de nougatine', 3), ('filet de bar', 3), ('confiture de myrtilles', 3), ('sucre colore', 3), ('ravioles du dauphine', 3), ('physalis', 3), ('edam', 3), ('blette', 3), ('cote de veau', 3), (\"farine d'epeautre\", 3), ('vinaigre de framboise', 3), ('epices tandoori', 3), ('sirop de menthe', 3), ('filet de canard', 3), ('liqueur a la creme de whisky', 3), ('vitelotte', 3), ('vin rouge cabernet sauvignon', 3), ('vinaigre balsamique a la pomme', 3), ('anis etoiles', 3), ('bulot', 3), ('peche blanche', 3), ('chou chinois', 3), ('pain de seigle', 3), ('muffin anglais sales', 3), ('filet de truite', 3), (\"bonbons m&m's\", 3), ('cookie au chocolat', 3), ('pave de truite', 3), (\"saucisse a l'ail\", 3), ('tete de moine', 3), ('poularde', 3), ('vinaigre balsamique a la figue', 3), (\"viande hachee d'agneau\", 3), ('epinard surgele', 3), ('aperol', 3), ('saint moret(r)', 3), (\"liqueur d'orange\", 3), ('sauce salsa', 3), ('citronnelle moulue', 3), ('confiture de mangue', 3), ('the darjeeling', 3), ('fromage saint-marcellin', 3), ('abondance', 3), ('gressin', 3), ('coulis de framboise', 3), ('blanquette de veau', 3), ('sucre special confiture', 3), ('poire au sirop', 3), ('carpaccio de boeuf', 3), (\"melange d'epices bio pour wok\", 3), ('biere blanche', 3), ('yaourt a la vanille', 3), ('coulis de fraise', 3), ('glace au chocolat', 3), ('saint-nectaire', 3), ('galette vegetale', 3), (\"melange d'epices mexicaines\", 3), ('sucre en morceaux', 3), ('palet breton', 3), ('abricots au sirop', 3), ('melon jaune', 3), (\"bonbons d'halloween\", 3), ('curacao bleu', 3), ('calamar entier', 3), ('grand marnier', 3), ('oeuf de saumon', 3), ('bechamel', 3), ('huile de noisette', 3), ('pesto rosso', 3), ('garam masala', 3), ('saucisson', 3), ('algue nori', 3), ('confiserie de decoration', 3), ('mozzarella di bufala', 3), ('pralin', 3), ('farce de veau', 3), ('rosette', 3), ('sesame noir', 3), ('biscuit vegan', 2), ('graines de lin dorees', 2), ('kumquats', 2), ('jus de grenade', 2), (\"epices a pain d'epice\", 2), ('brandade de morue', 2), ('mousse de canard', 2), ('jus de mandarine', 2), ('graines de lin brunes', 2), ('sauce blanche', 2), ('rillettes au crabe', 2), ('grain de cafe', 2), ('pintade', 2), ('grain de cafe enrobe de chocolat', 2), ('poudre a creme patissiere', 2), ('liqueur de clementine', 2), ('baie de genievre', 2), ('sable au chocolat', 2), (\"cote d'agneau\", 2), ('poudre de cappuccino', 2), ('gingembre confit', 2), ('paupiette de veau', 2), ('fromage epoisses', 2), ('petit saucisson', 2), ('vin jaune', 2), ('surimi', 2), ('mikado(r)', 2), (\"melange d'herbes pour pizza\", 2), ('tomate a farcir', 2), ('saucisse cocktail', 2), ('glacage au chocolat noir', 2), ('piment vert marine au fromage de brebis', 2), ('reglisse tendre', 2), ('pates risoni', 2), ('viande des grisons', 2), ('boulette de boeuf a la provencale', 2), ('antipasti italien', 2), ('the vert citron', 2), ('ouzo zachos', 2), ('pave de cerf marine au vin', 2), (\"knack d'alsace\", 2), ('fromage pour nachos', 2), ('carambar(r)', 2), ('gelee de groseille', 2), ('saucisse de morteau', 2), ('cote de boeuf', 2), ('biscuit rose de reims', 2), ('verveine', 2), ('triple sec', 2), ('truffe au chocolat blanc', 2), ('jus multifruits', 2), ('riz special paella', 2), ('vinaigrette', 2), ('gingembre pour sushis', 2), ('petit suisse', 2), ('nem au poulet', 2), ('jus de clementine', 2), ('litchi au sirop', 2), ('oeufs de lompe', 2), ('epaule de boeuf', 2), (\"creme d'amande\", 2), ('the earl grey', 2), ('jarret de porc demi-sel', 2), ('graines de pavot', 2), ('preparation a base de fruits a la rhubarbe', 2), ('mais a pop corn', 2), ('courgette ronde', 2), ('barre chocolatee kinder bueno(r)', 2), ('nouilles soba', 2), ('chalumeau de cuisine', 2), ('tomates variees', 2), ('tomate cocktail', 2), (\"crevette rouge d'argentine\", 2), ('truite arc en ciel', 2), ('filet de limande', 2), ('sorbet citron', 2), ('ananas au sirop', 2), ('chair de courge', 2), ('tournedos de magret de canard', 2), ('croquette de pommes de terre', 2), ('aiguillette de canard', 2), ('saint felicien', 2), ('glacage au cacao', 2), ('tourteau', 2), ('gaufrette noisette', 2), ('mortadelle bologna', 2), (\"caviar d'aubergine\", 2), ('farine de sarrasin', 2), ('fromage halloumi', 2), ('sauce teriyaki', 2), ('maquereau', 2), ('alcool de poire', 2), ('melange de fruits exotiques', 2), ('beurre de cacao', 2), ('raviolis au pesto et basilic', 2), ('pomelo', 2), ('linguine', 2), ('sirop de glucose', 2), ('pate a sucre', 2), ('mozzarella rapee', 2), ('sirop de citron', 2), ('onion rings', 2), ('confiture', 2), ('ginger beer', 2), ('porc effiloche', 2), ('brousse', 2), ('conchiglioni', 2), (\"pate d'amande orange\", 1), ('sauce tomate arrabiata', 1), ('palourde', 1), ('pois casses', 1), ('pain aux noix', 1), ('feuille de pate a ravioles', 1), (\"farine d'orge\", 1), ('batonnet en bois', 1), ('tartelette a la fraise', 1), ('finger au chocolat', 1), ('fraise tagada', 1), ('cornet de glace', 1), ('mousse au chocolat', 1), ('tomate coeur de boeuf', 1), ('barquette au chocolat', 1), ('carpaccio de poulpe', 1), ('osso bucco de dinde', 1), ('creme de moka', 1), ('madere', 1), ('epaule de veau', 1), ('talon de jambon', 1), ('medaillon de veau', 1), ('sirop de fruits rouges', 1), ('curly', 1), ('arome de cafe', 1), ('compote de poires', 1), ('sauge', 1), ('sarrasin decortique', 1), ('pastrami', 1), ('snickers(r)', 1), ('sake', 1), ('rognon de veau entier', 1), ('papaye', 1), ('glace au cafe', 1), ('capsule de cafe', 1), ('risotto a la chicoree rouge', 1), ('ble precuit', 1), ('pleurotes', 1), ('poulpe cuit', 1), ('huile de pepins de courges', 1), ('langue de chat', 1), ('puree de potiron', 1), ('liqueur de myrte', 1), ('confiture de griottes', 1), ('cerises confites', 1), ('pop corn au beurre', 1), ('armagnac', 1), ('osso bucco', 1), ('fondant blanc', 1), (\"pave d'autruche marine\", 1), ('baileys', 1), ('pate pour pate imperiaux', 1), ('merlan entier', 1), ('filet de hareng', 1), ('coque', 1), ('livarot', 1), ('gelee instantanee', 1), ('riz souffle au chocolat', 1), ('the blanc', 1), ('vin mousseux demi-sec', 1), ('porc a la gyros', 1), ('cappelletti', 1), ('sauce pesto aux champignons', 1), ('andouille de guemene', 1), ('cabecou', 1), ('graisse de canard', 1), ('chou patissier', 1), ('pinot gris', 1), ('saucisse vegetale', 1), ('raviolis au jambon cru', 1), ('cafe froid', 1), ('barre chocolatee bellona', 1), ('liqueur de coco', 1), ('noix de macadamia', 1), ('gruyere suisse', 1), ('risotto aux asperges', 1), (\"melange d'epices pour barbecue\", 1), ('glace a la menthe', 1), ('coulis de chocolat', 1), ('sauce aigre douce', 1), ('billes de cuisson (ex: haricots secs)', 1), ('kit pour tacos', 1), ('yaourt peche-passion', 1), (\"fromage pont l'eveque\", 1), ('cola', 1), ('sauce yakitori', 1), ('betterave crue', 1), ('petite courge', 1), ('farine de seigle', 1), ('nectar de peche', 1), ('gaufre a toaster', 1), ('cervelas', 1), ('the noir aromatise fruits rouges', 1), ('olives vertes farcies aux amandes', 1), ('gelee de pommes', 1), ('infusion verveine', 1), ('jus de carotte', 1), ('confiture de peche', 1), ('eau de coco', 1), ('foie de volaille', 1), (\"confit d'oignon\", 1), ('eau de rose', 1), ('glace aux amandes', 1), ('puree de pommes de terre en flocons', 1), ('sirop de cassis', 1), ('fine escalope de poulet au paprika', 1), ('emporte-piece en forme de lapin', 1), ('eau de vie vieille prune', 1), ('preparation en poudre pour flan a la vanille', 1), ('sorbet fruits rouges', 1), ('chocolat noir a la menthe', 1), ('chocolat blanc a la noix de coco', 1), ('chocolat blanc aux amandes', 1), ('cacahuetes chocolatees', 1), ('oursons en gelatine', 1), ('brochette de dinde', 1), ('chipolatas', 1), ('pain a durum', 1), ('tortellinis au boeuf', 1), ('chou-rave', 1), ('sorbet framboise', 1), ('cocktail mojito', 1), ('sour cream', 1), ('pain suedois', 1), ('pain a bruschetta', 1), ('madeleine', 1), ('pectine', 1), ('carpaccio de saumon', 1), ('sirop de mure', 1), ('puree de citrouille', 1), ('fanes de legumes (carottes, radis, navets...)', 1), ('farine de ble noir', 1), ('pappardelle farcies aux cepes', 1), ('sauce tartuffade', 1), ('sirop de cranberry', 1), ('macaron au saumon', 1), ('perail', 1), ('chaource', 1), ('chocolat au caramel', 1), ('glace aux marrons', 1), ('raifort', 1), ('cuisse de dinde', 1), ('supremes de poulet', 1), ('mogettes', 1), ('vol au vent', 1), ('bonbons', 1), ('sucettes bicolores', 1), ('barbe a papa', 1), ('pancake', 1), ('pennoni giganti', 1), (\"fond d'artichaut\", 1), (\"riste d'aubergine a la provencale\", 1), ('mondarella (mozzarella vegetarienne)', 1), ('yaourt a la noix de coco', 1), ('glace a la cerise', 1), ('provolone (fromage italien)', 1), ('chanterelles', 1), ('philadelphia (c)', 1), ('sauce burger', 1), ('seiche', 1), ('farine de noix de coco', 1), ('decoration pour gateau en sucre', 1), ('kinder schoko-bons', 1), ('ecrevisse', 1), ('kit kat(r)', 1), ('pain au lait', 1), ('feuilles de vigne', 1), ('glace a la fraise', 1), ('liqueur st germain', 1), ('dulce de leche', 1), ('aioli', 1), ('sauce pili pili', 1), ('sauce a la truffe noir', 1), ('angostura bitter', 1), ('filet de plie', 1), ('farine de pois chiches', 1), ('spaetzle', 1), ('baies de goji', 1), ('pate de miso', 1), ('sesame blanc', 1), ('lait de soja', 1), ('andouillette de troyes', 1), ('pepperoni', 1), ('confiture de lait', 1), ('pastis', 1), ('kimchi en bocal', 1), ('farce de volaille', 1), ('chips', 1), ('bresaola', 1), ('neufchatel', 1)]\n"
     ]
    }
   ],
   "source": [
    "#get the most common ingredients ranked\n",
    "from collections import Counter\n",
    "ingredients_counter = Counter() \n",
    "for elem in lines:\n",
    "    ingredients = [clean_french(eng) for eng in elem['ingredients']]\n",
    "    for ingredient in ingredients:\n",
    "        ingredients_counter[ingredient] += 1\n",
    "\n",
    "print(ingredients_counter.most_common()) "
   ]
  }
 ],
 "metadata": {
  "kernelspec": {
   "display_name": "scrapy",
   "language": "python",
   "name": "python3"
  },
  "language_info": {
   "codemirror_mode": {
    "name": "ipython",
    "version": 3
   },
   "file_extension": ".py",
   "mimetype": "text/x-python",
   "name": "python",
   "nbconvert_exporter": "python",
   "pygments_lexer": "ipython3",
   "version": "3.11.5"
  }
 },
 "nbformat": 4,
 "nbformat_minor": 2
}
